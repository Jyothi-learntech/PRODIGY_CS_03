{
 "cells": [
  {
   "cell_type": "code",
   "execution_count": 1,
   "id": "b3dbdfeb-af30-4f2c-8a40-c2568345d2ad",
   "metadata": {},
   "outputs": [
    {
     "name": "stdin",
     "output_type": "stream",
     "text": [
      "Enter a password to assess:  Jyothi@16\n"
     ]
    },
    {
     "name": "stdout",
     "output_type": "stream",
     "text": [
      "Password Strength: 5/5\n",
      "Feedback:\n",
      "- Your password is strong.\n"
     ]
    }
   ],
   "source": [
    "import re\n",
    "\n",
    "def assess_password_strength(password):\n",
    "    strength = 0\n",
    "    feedback = []\n",
    "\n",
    "   \n",
    "    if len(password) >= 8:\n",
    "        strength += 1\n",
    "    else:\n",
    "        feedback.append(\"Password should be at least 8 characters long.\")\n",
    "\n",
    "    \n",
    "    if re.search(r'[A-Z]', password):\n",
    "        strength += 1\n",
    "    else:\n",
    "        feedback.append(\"Password should contain at least one uppercase letter.\")\n",
    "\n",
    "    \n",
    "    if re.search(r'[a-z]', password):\n",
    "        strength += 1\n",
    "    else:\n",
    "        feedback.append(\"Password should contain at least one lowercase letter.\")\n",
    "\n",
    "    \n",
    "    if re.search(r'[0-9]', password):\n",
    "        strength += 1\n",
    "    else:\n",
    "        feedback.append(\"Password should contain at least one number.\")\n",
    "\n",
    "    \n",
    "    if re.search(r'[!@#$%^&*(),.?\":{}|<>]', password):\n",
    "        strength += 1\n",
    "    else:\n",
    "        feedback.append(\"Password should contain at least one special character.\")\n",
    "\n",
    "    \n",
    "    if strength == 5:\n",
    "        feedback.append(\"Your password is strong.\")\n",
    "    elif strength >= 3:\n",
    "        feedback.append(\"Your password is moderate. Consider making it stronger.\")\n",
    "    else:\n",
    "        feedback.append(\"Your password is weak. Consider making it stronger.\")\n",
    "\n",
    "    return {\n",
    "        \"strength\": strength,\n",
    "        \"feedback\": feedback\n",
    "    }\n",
    "\n",
    "#user\n",
    "password = input(\"Enter a password to assess: \")\n",
    "result = assess_password_strength(password)\n",
    "print(f\"Password Strength: {result['strength']}/5\")\n",
    "print(\"Feedback:\")\n",
    "for comment in result['feedback']:\n",
    "    print(f\"- {comment}\")"
   ]
  },
  {
   "cell_type": "code",
   "execution_count": null,
   "id": "837bad4e-0d1b-4e08-9bcf-40244fb79ab2",
   "metadata": {},
   "outputs": [],
   "source": []
  }
 ],
 "metadata": {
  "kernelspec": {
   "display_name": "Python 3 (ipykernel)",
   "language": "python",
   "name": "python3"
  },
  "language_info": {
   "codemirror_mode": {
    "name": "ipython",
    "version": 3
   },
   "file_extension": ".py",
   "mimetype": "text/x-python",
   "name": "python",
   "nbconvert_exporter": "python",
   "pygments_lexer": "ipython3",
   "version": "3.12.4"
  }
 },
 "nbformat": 4,
 "nbformat_minor": 5
}
